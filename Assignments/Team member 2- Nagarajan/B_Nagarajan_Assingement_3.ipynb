Exercises
Answer the questions or complete the tasks outlined in bold below, use the specific method described if applicable.

What is 7 to the power of 4?

a=7
pow=a**4
print(pow)
2401
Split this string:

s = "Hi there Sam!"

into a list.

s = "Hi there Sam!"
a=s.split()
print(a)
['Hi', 'there', 'Sam!']
 
['Hi', 'there', 'dad!']
Given the variables:

planet = "Earth"
diameter = 12742

Use .format() to print the following string:

The diameter of Earth is 12742 kilometers.
a="The diameter of  {planet} is {diameter} kilometers"
print(a.format(planet = "Earth", diameter= 12742))
The diameter of  Earth is 12742 kilometers
 
The diameter of Earth is 12742 kilometers.
Given this nested list, use indexing to grab the word "hello"

lst = [1,2,[3,4],[5,[100,200,['hello']],23,11],1,7]
print(lst[3][1][2])
['hello']
Given this nest dictionary grab the word "hello". Be prepared, this will be annoying/tricky

d = {'k1':[1,2,3,{'tricky':['oh','man','inception',{'target':[1,2,3,'hello']}]}]}
d = {'k1':[1,2,3,{'tricky':['oh','man','inception',{'target':[1,2,3,'hello']}]}]}
a=d.get("target",'hello')
print(a)
hello
What is the main difference between a tuple and a list?

 
lists are mutable,whereas tuples are immutable.

Create a function that grabs the email website domain from a string in the form:

user@domain.com

So for example, passing "user@domain.com" would return: domain.com

 
def func(email):
  return email.split('@')[-1]
func('user@domain.com')
'domain.com'
Create a basic function that returns True if the word 'dog' is contained in the input string. Don't worry about edge cases like a punctuation being attached to the word dog, but do account for capitalization.

 
def func(st):
    return 'dog' in st.lower().split()
func("I love my dog")
True
Create a function that counts the number of times the word "dog" occurs in a string. Again ignore edge cases.

 
def func(st):
    count = 0
    for word in st.lower().split():
        if word == 'dog':
            count += 1
    return count
func(' I love my dog ,dog are cute')
1
Problem
You are driving a little too fast, and a police officer stops you. Write a function to return one of 3 possible results: "No ticket", "Small ticket", or "Big Ticket". If your speed is 60 or less, the result is "No Ticket". If speed is between 61 and 80 inclusive, the result is "Small Ticket". If speed is 81 or more, the result is "Big Ticket". Unless it is your birthday (encoded as a boolean value in the parameters of the function) -- on your birthday, your speed can be 5 higher in all cases.

def caught_speeding(speed, is_birthday):
    
    if is_birthday:
        speeding = speed - 5
    else:
        speeding = speed
    
    if speeding > 80:
        return 'Big Ticket'
    elif speeding > 60:
        return 'Small Ticket'
    else:
        return 'No Ticket'
caught_speeding(81,False)
'Big Ticket'
caught_speeding(81,True)
'Small Ticket'
Create an employee list with basic salary values(at least 5 values for 5 employees) and using a for loop retreive each employee salary and calculate total salary expenditure.

emp_salary=[24000,25000,30000,40000,50000]
total=0
print("salary of 1st person is: emp_salary[0]")
print("salary of 2nd person is: emp_salary[1]")
print("salary of 3rd person is: emp_salary[2]")
print("salary of 4th person is: emp_salary[3]")
print("salary of 5th person is: emp_salary[4]")
for a in emp_salary:
   total=total+a
print("The total salary is:",total)
salary of 1st person is: emp_salary[0]
salary of 2nd person is: emp_salary[1]
salary of 3rd person is: emp_salary[2]
salary of 4th person is: emp_salary[3]
salary of 5th person is: emp_salary[4]
The total salary is: 169000
Create two dictionaries in Python:

First one to contain fields as Empid, Empname, Basicpay

Second dictionary to contain fields as DeptName, DeptId.

Combine both dictionaries.

dict_1={"Empid":1,"Empname":"abi","Basicpay":50000}
dict_1
{'Empid': 1, 'Empname': 'abi', 'Basicpay': 50000}
dict_2={"DeptName":"cse","DeptId":104}
dict_2
{'DeptName': 'cse', 'DeptId': 104}
dict_1.update(dict_2)
print(dict_1)
{'Empid': 1, 'Empname': 'abi', 'Basicpay': 50000, 'DeptName': 'cse', 'DeptId': 104}
